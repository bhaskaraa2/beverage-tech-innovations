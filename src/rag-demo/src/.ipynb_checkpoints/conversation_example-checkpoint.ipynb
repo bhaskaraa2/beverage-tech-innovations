{
 "cells": [
  {
   "cell_type": "code",
   "execution_count": 2,
   "id": "f865cf7d-f5c9-4f55-a874-9c6e339a3760",
   "metadata": {},
   "outputs": [],
   "source": [
    "from system import BeverageInventorySystem"
   ]
  },
  {
   "cell_type": "code",
   "execution_count": 3,
   "id": "4096079d-56c5-4466-aebc-769a061c4a75",
   "metadata": {},
   "outputs": [
    {
     "name": "stdout",
     "output_type": "stream",
     "text": [
      "{'name': 'check_inventory', 'description': 'Check inventory levels', 'parameters': {'properties': {'store_id': {'description': 'store id', 'type': 'string'}, 'product_id': {'anyOf': [{'type': 'string'}, {'type': 'null'}], 'default': None, 'description': 'product id. Defaults to None'}}, 'required': ['store_id'], 'type': 'object'}}\n",
      "{'name': 'analyze_sales', 'description': 'Analyze sales', 'parameters': {'properties': {'store_id': {'description': 'store id', 'type': 'string'}, 'start_date': {'description': 'start date', 'format': 'date-time', 'type': 'string'}, 'end_date': {'description': 'end date', 'format': 'date-time', 'type': 'string'}}, 'required': ['store_id', 'start_date', 'end_date'], 'type': 'object'}}\n"
     ]
    }
   ],
   "source": [
    "system = BeverageInventorySystem(None,\"llama3-groq-tool-use\")"
   ]
  },
  {
   "cell_type": "code",
   "execution_count": 11,
   "id": "f43ae137-2f55-473c-9186-44885fa2ed96",
   "metadata": {},
   "outputs": [
    {
     "name": "stdout",
     "output_type": "stream",
     "text": [
      "Assistant: To analyze the sales of STORE007 from January 1, 2023, to December 31, 2024, I'll need to access specific data. Could you provide me with the sales data or specify where I can find it?\n"
     ]
    }
   ],
   "source": [
    "system.chat(\"analyze_sales STORE007 between 1st Jan 2023 to 31st Dec 2024\")\n",
    "\n"
   ]
  },
  {
   "cell_type": "code",
   "execution_count": 6,
   "id": "e60fa08a-8562-4299-ae66-b1f157de1a92",
   "metadata": {},
   "outputs": [
    {
     "name": "stdout",
     "output_type": "stream",
     "text": [
      "content=\"I'm here to assist you with your inventory management needs. What specific information are you looking for?\" additional_kwargs={} response_metadata={'model': 'llama3-groq-tool-use', 'created_at': '2025-01-01T15:43:31.649385409Z', 'done': True, 'done_reason': 'stop', 'total_duration': 388392823, 'load_duration': 13232937, 'prompt_eval_count': 74, 'prompt_eval_duration': 18000000, 'eval_count': 21, 'eval_duration': 355000000, 'message': Message(role='assistant', content='', images=None, tool_calls=None)} id='run-e2aa654c-5431-4415-9e16-7f1845ddeddc-0' usage_metadata={'input_tokens': 74, 'output_tokens': 21, 'total_tokens': 95}\n"
     ]
    }
   ],
   "source": [
    "system.chat(\"Yes\")"
   ]
  }
 ],
 "metadata": {
  "kernelspec": {
   "display_name": "Python 3 (ipykernel)",
   "language": "python",
   "name": "python3"
  },
  "language_info": {
   "codemirror_mode": {
    "name": "ipython",
    "version": 3
   },
   "file_extension": ".py",
   "mimetype": "text/x-python",
   "name": "python",
   "nbconvert_exporter": "python",
   "pygments_lexer": "ipython3",
   "version": "3.12.3"
  }
 },
 "nbformat": 4,
 "nbformat_minor": 5
}
