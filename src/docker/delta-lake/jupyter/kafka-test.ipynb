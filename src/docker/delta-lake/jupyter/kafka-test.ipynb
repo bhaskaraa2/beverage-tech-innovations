{
 "cells": [
  {
   "cell_type": "code",
   "execution_count": null,
   "id": "c05f2ceb-49d1-455d-8708-a35907976620",
   "metadata": {},
   "outputs": [],
   "source": [
    "# IPython Notebook to Test Apache Kafka\n",
    "\n",
    "# Import necessary libraries\n",
    "from kafka import KafkaProducer, KafkaConsumer\n",
    "import time\n",
    "\n",
    "# Define Kafka broker and topic\n",
    "bootstrap_servers = 'broker:29092'\n",
    "topic_name = 'test'\n",
    "\n",
    "# Function to produce messages to Kafka\n",
    "def produce_messages(num_messages=10):\n",
    "    producer = KafkaProducer(bootstrap_servers=bootstrap_servers)\n",
    "\n",
    "    for i in range(num_messages):\n",
    "        message = f\"Message {i}\"\n",
    "        producer.send(topic_name, value=message.encode('utf-8'))\n",
    "        print(f\"Produced: {message}\")\n",
    "        time.sleep(1)  # Wait for 1 second between messages\n",
    "\n",
    "    producer.flush()\n",
    "    producer.close()\n",
    "\n",
    "# Function to consume messages from Kafka\n",
    "def consume_messages(num_messages=10):\n",
    "    consumer = KafkaConsumer(\n",
    "        topic_name,\n",
    "        bootstrap_servers=bootstrap_servers,\n",
    "        auto_offset_reset='earliest',\n",
    "        enable_auto_commit=True,\n",
    "        group_id='my-group',\n",
    "        value_deserializer=lambda x: x.decode('utf-8')\n",
    "    )\n",
    "\n",
    "    print(\"Consuming messages...\")\n",
    "    for message in consumer:\n",
    "        print(f\"Consumed: {message.value}\")\n",
    "        num_messages -= 1\n",
    "        if num_messages <= 0:\n",
    "            break\n",
    "\n",
    "    consumer.close()\n",
    "\n",
    "# Produce messages\n",
    "produce_messages(5)\n",
    "\n",
    "# Consume messages\n",
    "consume_messages(5)\n"
   ]
  },
  {
   "cell_type": "code",
   "execution_count": null,
   "id": "3b0a616c-a6f4-471b-8677-3dc2075d4343",
   "metadata": {},
   "outputs": [],
   "source": []
  }
 ],
 "metadata": {
  "kernelspec": {
   "display_name": "Python 3 (ipykernel)",
   "language": "python",
   "name": "python3"
  },
  "language_info": {
   "codemirror_mode": {
    "name": "ipython",
    "version": 3
   },
   "file_extension": ".py",
   "mimetype": "text/x-python",
   "name": "python",
   "nbconvert_exporter": "python",
   "pygments_lexer": "ipython3",
   "version": "3.8.10"
  }
 },
 "nbformat": 4,
 "nbformat_minor": 5
}
